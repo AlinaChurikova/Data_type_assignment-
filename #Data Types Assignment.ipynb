{
 "cells": [
  {
   "cell_type": "code",
   "execution_count": 12,
   "id": "aead20a8",
   "metadata": {},
   "outputs": [],
   "source": [
    "# Bitcoin   "
   ]
  },
  {
   "cell_type": "code",
   "execution_count": 5,
   "id": "b025ec16",
   "metadata": {},
   "outputs": [
    {
     "name": "stdout",
     "output_type": "stream",
     "text": [
      "1210.68\n"
     ]
    }
   ],
   "source": [
    "capital = 1000\n",
    "daily_growth = 12\n",
    "days = 7\n",
    "end_money = capital*pow(1+daily_growth*0.01,days)\n",
    "final_amount = end_money - capital\n",
    "print(round(final_amount,2))"
   ]
  },
  {
   "cell_type": "code",
   "execution_count": 43,
   "id": "d0c5f030",
   "metadata": {},
   "outputs": [
    {
     "name": "stdout",
     "output_type": "stream",
     "text": [
      "When we buy bitcoin with 1000 USD at the beginning of the week,\n",
      " we would earn 1210.68 USD at the end of the week, \n",
      " with an average gain of 12%\n"
     ]
    }
   ],
   "source": [
    "print('When we buy bitcoin with {} USD at the beginning of the week,\\n we would earn {} USD at the end of the week, \\n with an average gain of {}%'.format(capital, 1210.68, 12))"
   ]
  },
  {
   "cell_type": "code",
   "execution_count": 9,
   "id": "d820bae9",
   "metadata": {},
   "outputs": [
    {
     "name": "stdout",
     "output_type": "stream",
     "text": [
      "Print the temerature in Fahrenheit : 26\n",
      "-3.3333333333333335\n",
      "-3.33\n"
     ]
    }
   ],
   "source": [
    "#3 Temperature\n",
    "F = int(input('Print the temerature in Fahrenheit : '))\n",
    "C = (5/9) * (float(F) - 32)\n",
    "print(C)\n",
    "temp = round(C, 2)\n",
    "print(temp)"
   ]
  },
  {
   "cell_type": "code",
   "execution_count": 67,
   "id": "3763c6a1",
   "metadata": {},
   "outputs": [
    {
     "name": "stdout",
     "output_type": "stream",
     "text": [
      "Enter your number 56\n",
      "11\n"
     ]
    }
   ],
   "source": [
    "#4sum of the digits in the integer\n",
    "\n",
    "print(sum(list(map(int,input(\"Enter your number \")))))"
   ]
  },
  {
   "cell_type": "code",
   "execution_count": 69,
   "id": "41f44984",
   "metadata": {},
   "outputs": [
    {
     "name": "stdout",
     "output_type": "stream",
     "text": [
      "a: 6\n",
      "b: 8\n",
      "The length of the hypotenuse is: 10.0\n"
     ]
    }
   ],
   "source": [
    "#the hypotenuse of a right angled triangle\n",
    "\n",
    "from math import sqrt\n",
    "a = float(input(\"a: \"))\n",
    "b = float(input(\"b: \"))\n",
    "c = sqrt(a**2 + b**2)\n",
    "print(\"The length of the hypotenuse is:\", c )"
   ]
  },
  {
   "cell_type": "code",
   "execution_count": null,
   "id": "58f7acc1",
   "metadata": {},
   "outputs": [],
   "source": []
  }
 ],
 "metadata": {
  "kernelspec": {
   "display_name": "Python 3 (ipykernel)",
   "language": "python",
   "name": "python3"
  },
  "language_info": {
   "codemirror_mode": {
    "name": "ipython",
    "version": 3
   },
   "file_extension": ".py",
   "mimetype": "text/x-python",
   "name": "python",
   "nbconvert_exporter": "python",
   "pygments_lexer": "ipython3",
   "version": "3.9.7"
  },
  "toc": {
   "base_numbering": 1,
   "nav_menu": {},
   "number_sections": true,
   "sideBar": true,
   "skip_h1_title": false,
   "title_cell": "Table of Contents",
   "title_sidebar": "Contents",
   "toc_cell": false,
   "toc_position": {},
   "toc_section_display": true,
   "toc_window_display": false
  }
 },
 "nbformat": 4,
 "nbformat_minor": 5
}
