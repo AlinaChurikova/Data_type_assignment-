{
 "cells": [
  {
   "cell_type": "code",
   "execution_count": null,
   "id": "7a65ad36",
   "metadata": {},
   "outputs": [],
   "source": [
    "#String Assignment"
   ]
  },
  {
   "cell_type": "code",
   "execution_count": 1,
   "id": "1c4f1457",
   "metadata": {},
   "outputs": [
    {
     "name": "stdout",
     "output_type": "stream",
     "text": [
      "Print your name in lower case: alina\n",
      "Print your surname in lower case: churikova\n",
      "Alina Churikova\n"
     ]
    }
   ],
   "source": [
    "user_name = input(\"Print your name in lower case: \")\n",
    "user_surname = input(\"Print your surname in lower case: \")\n",
    "full_name = user_name + \" \" + user_surname\n",
    "print(full_name.title())"
   ]
  },
  {
   "cell_type": "code",
   "execution_count": 2,
   "id": "242fa47d",
   "metadata": {},
   "outputs": [
    {
     "name": "stdout",
     "output_type": "stream",
     "text": [
      "Print the first line of a poem Raven by Edgar Allen Poe: Deep into that darkness peering,\n"
     ]
    },
    {
     "data": {
      "text/plain": [
       "32"
      ]
     },
     "execution_count": 2,
     "metadata": {},
     "output_type": "execute_result"
    }
   ],
   "source": [
    "poem = input(\"Print the first line of a poem Raven by Edgar Allen Poe: \")\n",
    "poem\n",
    "len(poem)"
   ]
  },
  {
   "cell_type": "code",
   "execution_count": 3,
   "id": "7b21531e",
   "metadata": {},
   "outputs": [
    {
     "name": "stdout",
     "output_type": "stream",
     "text": [
      "Type a starting number for slicing: 4\n",
      "Type an ending number for slicing: 7\n"
     ]
    },
    {
     "data": {
      "text/plain": [
       "' in'"
      ]
     },
     "execution_count": 3,
     "metadata": {},
     "output_type": "execute_result"
    }
   ],
   "source": [
    "start = input(\"Type a starting number for slicing: \")\n",
    "end = input(\"Type an ending number for slicing: \")\n",
    "poem[int(start):int(end)]"
   ]
  },
  {
   "cell_type": "code",
   "execution_count": 4,
   "id": "89f1eaae",
   "metadata": {},
   "outputs": [
    {
     "name": "stdout",
     "output_type": "stream",
     "text": [
      "Hello\n",
      "We remove white spaces for Python to properly process the text.\n"
     ]
    }
   ],
   "source": [
    "str = \" Hello \"\n",
    "print(str.strip())\n",
    "print('We remove white spaces for Python to properly process the text.')"
   ]
  },
  {
   "cell_type": "code",
   "execution_count": null,
   "id": "aeae380a",
   "metadata": {},
   "outputs": [],
   "source": []
  },
  {
   "cell_type": "code",
   "execution_count": null,
   "id": "da4de01b",
   "metadata": {},
   "outputs": [],
   "source": []
  }
 ],
 "metadata": {
  "kernelspec": {
   "display_name": "Python 3 (ipykernel)",
   "language": "python",
   "name": "python3"
  },
  "language_info": {
   "codemirror_mode": {
    "name": "ipython",
    "version": 3
   },
   "file_extension": ".py",
   "mimetype": "text/x-python",
   "name": "python",
   "nbconvert_exporter": "python",
   "pygments_lexer": "ipython3",
   "version": "3.9.7"
  },
  "toc": {
   "base_numbering": 1,
   "nav_menu": {},
   "number_sections": true,
   "sideBar": true,
   "skip_h1_title": false,
   "title_cell": "Table of Contents",
   "title_sidebar": "Contents",
   "toc_cell": false,
   "toc_position": {},
   "toc_section_display": true,
   "toc_window_display": false
  }
 },
 "nbformat": 4,
 "nbformat_minor": 5
}
