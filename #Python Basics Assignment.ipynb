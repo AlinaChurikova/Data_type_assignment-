{
 "cells": [
  {
   "cell_type": "code",
   "execution_count": 70,
   "id": "dc1081db",
   "metadata": {},
   "outputs": [
    {
     "name": "stdout",
     "output_type": "stream",
     "text": [
      "My name is: Alina\n",
      "My surname is: Churikova\n",
      "Alina Churikova\n"
     ]
    }
   ],
   "source": [
    "#Python Basics Assignment\n",
    "#print your name\n",
    "\n",
    "name = input('My name is: ')\n",
    "surname = input('My surname is: ')\n",
    "print(name + \" \"+ surname)"
   ]
  },
  {
   "cell_type": "code",
   "execution_count": 10,
   "id": "3ca47d3b",
   "metadata": {},
   "outputs": [
    {
     "name": "stdout",
     "output_type": "stream",
     "text": [
      "Alina\n",
      "Churikova\n"
     ]
    }
   ],
   "source": [
    "print('Alina\\nChurikova')"
   ]
  },
  {
   "cell_type": "code",
   "execution_count": 11,
   "id": "89c994b3",
   "metadata": {},
   "outputs": [
    {
     "name": "stdout",
     "output_type": "stream",
     "text": [
      "I don't want to be an \"artist\". I want to be a \"Data Scientist\".\n"
     ]
    }
   ],
   "source": [
    "print('''I don't want to be an \"artist\". I want to be a \"Data Scientist\".''')"
   ]
  },
  {
   "cell_type": "code",
   "execution_count": null,
   "id": "036646ef",
   "metadata": {},
   "outputs": [],
   "source": []
  },
  {
   "cell_type": "code",
   "execution_count": null,
   "id": "58f7acc1",
   "metadata": {},
   "outputs": [],
   "source": []
  }
 ],
 "metadata": {
  "kernelspec": {
   "display_name": "Python 3 (ipykernel)",
   "language": "python",
   "name": "python3"
  },
  "language_info": {
   "codemirror_mode": {
    "name": "ipython",
    "version": 3
   },
   "file_extension": ".py",
   "mimetype": "text/x-python",
   "name": "python",
   "nbconvert_exporter": "python",
   "pygments_lexer": "ipython3",
   "version": "3.9.7"
  },
  "toc": {
   "base_numbering": 1,
   "nav_menu": {},
   "number_sections": true,
   "sideBar": true,
   "skip_h1_title": false,
   "title_cell": "Table of Contents",
   "title_sidebar": "Contents",
   "toc_cell": false,
   "toc_position": {},
   "toc_section_display": true,
   "toc_window_display": false
  }
 },
 "nbformat": 4,
 "nbformat_minor": 5
}
